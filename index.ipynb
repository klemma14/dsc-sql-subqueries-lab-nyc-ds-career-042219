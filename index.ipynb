{
 "cells": [
  {
   "cell_type": "markdown",
   "metadata": {},
   "source": [
    "# SQL Subqueries - Lab\n",
    "\n",
    "## Introduction\n",
    "\n",
    "Now that you've seen how subqueries work, it's time to get some practice writing them! Not all of the queries will require subqueries, but all will be a bit more complex and require some thought and review about aggregates, grouping, ordering, filtering, joins and subqueries. Good luck!  \n",
    "\n",
    "## Objectives\n",
    "\n",
    "You will be able to:\n",
    "\n",
    "* Write subqueries to decompose complex queries\n",
    "\n",
    "## CRM Database Schema\n",
    "\n",
    "Once again, here's the schema for the CRM database you'll continue to practice with.\n",
    "\n",
    "<img src=\"images/Database-Schema.png\" width=\"600\">\n",
    "\n",
    "## Connect to the Database\n",
    "\n",
    "As usual, start by importing the necessary packages and connecting to the database **data.sqlite**."
   ]
  },
  {
   "cell_type": "code",
   "execution_count": 2,
   "metadata": {},
   "outputs": [],
   "source": [
    "#Your code here; import the necessary packages\n",
    "import sqlite3\n",
    "import pandas as pd\n"
   ]
  },
  {
   "cell_type": "code",
   "execution_count": 3,
   "metadata": {},
   "outputs": [],
   "source": [
    "#Your code here; create the connection and cursor\n",
    "conn=sqlite3.connect('data.sqlite')\n",
    "c= conn.cursor()"
   ]
  },
  {
   "cell_type": "markdown",
   "metadata": {},
   "source": [
    "## Select the Average Number of Orders on a Product by Product Basis"
   ]
  },
  {
   "cell_type": "code",
   "execution_count": 4,
   "metadata": {},
   "outputs": [
    {
     "ename": "OperationalError",
     "evalue": "near \"from\": syntax error",
     "output_type": "error",
     "traceback": [
      "\u001b[0;31m\u001b[0m",
      "\u001b[0;31mOperationalError\u001b[0mTraceback (most recent call last)",
      "\u001b[0;32m<ipython-input-4-abaa4085cdae>\u001b[0m in \u001b[0;36m<module>\u001b[0;34m()\u001b[0m\n\u001b[1;32m      2\u001b[0m c.execute('''select avg(orderdetails.quantityOrdered), \n\u001b[1;32m      3\u001b[0m from orderdetails in (select orderdetails\n\u001b[0;32m----> 4\u001b[0;31m join products using(productCode);''').fetchall()\n\u001b[0m",
      "\u001b[0;31mOperationalError\u001b[0m: near \"from\": syntax error"
     ]
    }
   ],
   "source": [
    "#Your code here; use a subquery. No join will be necessary.\n",
    "c.execute('''select avg(orderdetails.quantityOrdered), \n",
    "from orderdetails in (select orderdetails\n",
    "join products using(productCode);''').fetchall()"
   ]
  },
  {
   "cell_type": "markdown",
   "metadata": {},
   "source": [
    "## Write an Equivalent Query using a Subquery\n",
    "\n",
    "```SQL\n",
    "select customerNumber,\n",
    "       contactLastName,\n",
    "       contactFirstName\n",
    "       from customers\n",
    "       join orders \n",
    "       using(customerNumber)\n",
    "       where orderDate = '2003-01-31';\n",
    "```"
   ]
  },
  {
   "cell_type": "code",
   "execution_count": 5,
   "metadata": {},
   "outputs": [
    {
     "ename": "OperationalError",
     "evalue": "near \"from\": syntax error",
     "output_type": "error",
     "traceback": [
      "\u001b[0;31m\u001b[0m",
      "\u001b[0;31mOperationalError\u001b[0mTraceback (most recent call last)",
      "\u001b[0;32m<ipython-input-5-3b05502d1c15>\u001b[0m in \u001b[0;36m<module>\u001b[0;34m()\u001b[0m\n\u001b[1;32m      1\u001b[0m \u001b[0;31m#Your code here; use a subquery. No join will be necessary.\u001b[0m\u001b[0;34m\u001b[0m\u001b[0;34m\u001b[0m\u001b[0m\n\u001b[0;32m----> 2\u001b[0;31m \u001b[0mc\u001b[0m\u001b[0;34m.\u001b[0m\u001b[0mexecute\u001b[0m\u001b[0;34m(\u001b[0m\u001b[0;34m'''select customerNumber, contactLastName, contactFirstName, from customers where customerNumber = (select customerNumber from orders where orderDate = '2003-01-31');'''\u001b[0m\u001b[0;34m)\u001b[0m\u001b[0;34m.\u001b[0m\u001b[0mfetchall\u001b[0m\u001b[0;34m(\u001b[0m\u001b[0;34m)\u001b[0m\u001b[0;34m\u001b[0m\u001b[0m\n\u001b[0m",
      "\u001b[0;31mOperationalError\u001b[0m: near \"from\": syntax error"
     ]
    }
   ],
   "source": [
    "#Your code here; use a subquery. No join will be necessary.\n",
    "c.execute('''select customerNumber, contactLastName, contactFirstName, from customers where customerNumber = (select customerNumber from orders where orderDate = '2003-01-31');''').fetchall()"
   ]
  },
  {
   "cell_type": "markdown",
   "metadata": {},
   "source": [
    "## Select the Total Number of Orders for Each Product Name\n",
    "\n",
    "Sort the results by the total number of items sold for that product."
   ]
  },
  {
   "cell_type": "code",
   "execution_count": 6,
   "metadata": {},
   "outputs": [
    {
     "data": {
      "text/plain": [
       "[('S18_1749', 105516)]"
      ]
     },
     "execution_count": 6,
     "metadata": {},
     "output_type": "execute_result"
    }
   ],
   "source": [
    "#Your code here\n",
    "c.execute('''select productCode, (select sum(quantityOrdered) from orderdetails) from products\n",
    "where productCode = (select productCode from orderdetails);''').fetchall()"
   ]
  },
  {
   "cell_type": "code",
   "execution_count": 15,
   "metadata": {},
   "outputs": [
    {
     "data": {
      "text/plain": [
       "[(767, 'S18_4933'),\n",
       " (803, 'S24_1046'),\n",
       " (824, 'S24_3969'),\n",
       " (832, 'S18_2248'),\n",
       " (855, 'S18_2870'),\n",
       " (866, 'S18_4409'),\n",
       " (867, 'S24_4048'),\n",
       " (870, 'S24_3191'),\n",
       " (873, 'S24_2887'),\n",
       " (880, 'S18_2795'),\n",
       " (883, 'S18_3140'),\n",
       " (884, 'S24_3420'),\n",
       " (894, 'S24_3432'),\n",
       " (894, 'S700_1691'),\n",
       " (896, 'S700_3962'),\n",
       " (897, 'S700_2047'),\n",
       " (898, 'S32_4485'),\n",
       " (898, 'S700_1938'),\n",
       " (900, 'S12_3990'),\n",
       " (906, 'S32_2206'),\n",
       " (907, 'S18_3136'),\n",
       " (911, 'S32_1268'),\n",
       " (912, 'S24_2972'),\n",
       " (914, 'S18_1589'),\n",
       " (915, 'S18_3482'),\n",
       " (915, 'S24_1628'),\n",
       " (917, 'S18_1984'),\n",
       " (917, 'S18_2581'),\n",
       " (918, 'S18_1749'),\n",
       " (918, 'S18_3259'),\n",
       " (923, 'S24_3816'),\n",
       " (925, 'S12_3380'),\n",
       " (932, 'S10_4962'),\n",
       " (933, 'S12_1099'),\n",
       " (934, 'S32_3207'),\n",
       " (934, 'S700_1138'),\n",
       " (937, 'S24_1937'),\n",
       " (940, 'S24_2841'),\n",
       " (941, 'S24_4620'),\n",
       " (945, 'S18_2625'),\n",
       " (945, 'S18_4027'),\n",
       " (947, 'S18_1129'),\n",
       " (947, 'S24_2360'),\n",
       " (948, 'S18_3685'),\n",
       " (949, 'S24_2766'),\n",
       " (952, 'S700_3505'),\n",
       " (955, 'S24_2022'),\n",
       " (955, 'S32_2509'),\n",
       " (957, 'S18_2325'),\n",
       " (958, 'S72_3212'),\n",
       " (959, 'S18_3782'),\n",
       " (960, 'S18_1367'),\n",
       " (960, 'S72_1253'),\n",
       " (961, 'S10_1949'),\n",
       " (963, 'S12_3148'),\n",
       " (965, 'S12_3891'),\n",
       " (966, 'S18_3029'),\n",
       " (966, 'S50_1514'),\n",
       " (969, 'S24_3371'),\n",
       " (972, 'S12_1666'),\n",
       " (972, 'S18_1889'),\n",
       " (972, 'S24_1785'),\n",
       " (972, 'S32_4289'),\n",
       " (973, 'S700_2834'),\n",
       " (974, 'S18_3278'),\n",
       " (976, 'S24_1444'),\n",
       " (979, 'S50_1392'),\n",
       " (983, 'S24_2840'),\n",
       " (983, 'S24_4258'),\n",
       " (984, 'S700_2466'),\n",
       " (985, 'S10_4698'),\n",
       " (985, 'S18_2957'),\n",
       " (986, 'S18_2238'),\n",
       " (988, 'S32_3522'),\n",
       " (990, 'S18_4522'),\n",
       " (991, 'S24_3151'),\n",
       " (992, 'S12_4675'),\n",
       " (992, 'S18_3320'),\n",
       " (992, 'S50_4713'),\n",
       " (995, 'S18_4668'),\n",
       " (997, 'S700_2824'),\n",
       " (998, 'S18_2432'),\n",
       " (999, 'S10_2016'),\n",
       " (999, 'S18_1097'),\n",
       " (1009, 'S24_4278'),\n",
       " (1011, 'S24_2011'),\n",
       " (1013, 'S18_4721'),\n",
       " (1014, 'S32_1374'),\n",
       " (1015, 'S24_2000'),\n",
       " (1019, 'S12_1108'),\n",
       " (1020, 'S700_2610'),\n",
       " (1028, 'S12_2823'),\n",
       " (1029, 'S24_2300'),\n",
       " (1030, 'S10_4757'),\n",
       " (1033, 'S24_1578'),\n",
       " (1038, 'S18_2949'),\n",
       " (1040, 'S18_1662'),\n",
       " (1047, 'S700_3167'),\n",
       " (1051, 'S24_3949'),\n",
       " (1052, 'S24_3856'),\n",
       " (1053, 'S18_2319'),\n",
       " (1056, 'S12_4473'),\n",
       " (1057, 'S10_1678'),\n",
       " (1061, 'S18_4600'),\n",
       " (1074, 'S50_1341'),\n",
       " (1076, 'S18_3856'),\n",
       " (1085, 'S700_4002'),\n",
       " (1111, 'S18_1342'),\n",
       " (1808, 'S18_3232')]"
      ]
     },
     "execution_count": 15,
     "metadata": {},
     "output_type": "execute_result"
    }
   ],
   "source": [
    "c.execute('''select sum(quantityOrdered) as total, productCode from orderdetails group by productCode order by total;''').fetchall()"
   ]
  },
  {
   "cell_type": "code",
   "execution_count": 8,
   "metadata": {},
   "outputs": [
    {
     "data": {
      "text/plain": [
       "[('S10_1678',),\n",
       " ('S10_1949',),\n",
       " ('S10_2016',),\n",
       " ('S10_4698',),\n",
       " ('S10_4757',),\n",
       " ('S10_4962',),\n",
       " ('S12_1099',),\n",
       " ('S12_1108',),\n",
       " ('S12_1666',),\n",
       " ('S12_2823',),\n",
       " ('S12_3148',),\n",
       " ('S12_3380',),\n",
       " ('S12_3891',),\n",
       " ('S12_3990',),\n",
       " ('S12_4473',),\n",
       " ('S12_4675',),\n",
       " ('S18_1097',),\n",
       " ('S18_1129',),\n",
       " ('S18_1342',),\n",
       " ('S18_1367',),\n",
       " ('S18_1589',),\n",
       " ('S18_1662',),\n",
       " ('S18_1749',),\n",
       " ('S18_1889',),\n",
       " ('S18_1984',),\n",
       " ('S18_2238',),\n",
       " ('S18_2248',),\n",
       " ('S18_2319',),\n",
       " ('S18_2325',),\n",
       " ('S18_2432',),\n",
       " ('S18_2581',),\n",
       " ('S18_2625',),\n",
       " ('S18_2795',),\n",
       " ('S18_2870',),\n",
       " ('S18_2949',),\n",
       " ('S18_2957',),\n",
       " ('S18_3029',),\n",
       " ('S18_3136',),\n",
       " ('S18_3140',),\n",
       " ('S18_3232',),\n",
       " ('S18_3233',),\n",
       " ('S18_3259',),\n",
       " ('S18_3278',),\n",
       " ('S18_3320',),\n",
       " ('S18_3482',),\n",
       " ('S18_3685',),\n",
       " ('S18_3782',),\n",
       " ('S18_3856',),\n",
       " ('S18_4027',),\n",
       " ('S18_4409',),\n",
       " ('S18_4522',),\n",
       " ('S18_4600',),\n",
       " ('S18_4668',),\n",
       " ('S18_4721',),\n",
       " ('S18_4933',),\n",
       " ('S24_1046',),\n",
       " ('S24_1444',),\n",
       " ('S24_1578',),\n",
       " ('S24_1628',),\n",
       " ('S24_1785',),\n",
       " ('S24_1937',),\n",
       " ('S24_2000',),\n",
       " ('S24_2011',),\n",
       " ('S24_2022',),\n",
       " ('S24_2300',),\n",
       " ('S24_2360',),\n",
       " ('S24_2766',),\n",
       " ('S24_2840',),\n",
       " ('S24_2841',),\n",
       " ('S24_2887',),\n",
       " ('S24_2972',),\n",
       " ('S24_3151',),\n",
       " ('S24_3191',),\n",
       " ('S24_3371',),\n",
       " ('S24_3420',),\n",
       " ('S24_3432',),\n",
       " ('S24_3816',),\n",
       " ('S24_3856',),\n",
       " ('S24_3949',),\n",
       " ('S24_3969',),\n",
       " ('S24_4048',),\n",
       " ('S24_4258',),\n",
       " ('S24_4278',),\n",
       " ('S24_4620',),\n",
       " ('S32_1268',),\n",
       " ('S32_1374',),\n",
       " ('S32_2206',),\n",
       " ('S32_2509',),\n",
       " ('S32_3207',),\n",
       " ('S32_3522',),\n",
       " ('S32_4289',),\n",
       " ('S32_4485',),\n",
       " ('S50_1341',),\n",
       " ('S50_1392',),\n",
       " ('S50_1514',),\n",
       " ('S50_4713',),\n",
       " ('S700_1138',),\n",
       " ('S700_1691',),\n",
       " ('S700_1938',),\n",
       " ('S700_2047',),\n",
       " ('S700_2466',),\n",
       " ('S700_2610',),\n",
       " ('S700_2824',),\n",
       " ('S700_2834',),\n",
       " ('S700_3167',),\n",
       " ('S700_3505',),\n",
       " ('S700_3962',),\n",
       " ('S700_4002',),\n",
       " ('S72_1253',),\n",
       " ('S72_3212',)]"
      ]
     },
     "execution_count": 8,
     "metadata": {},
     "output_type": "execute_result"
    }
   ],
   "source": [
    "c.execute('''select productCode from products;''').fetchall()"
   ]
  },
  {
   "cell_type": "markdown",
   "metadata": {},
   "source": [
    "## Select the Product Name and the  Total Number of People Who Have Ordered Each Product\n",
    "\n",
    "Sort the results in descending order."
   ]
  },
  {
   "cell_type": "code",
   "execution_count": 18,
   "metadata": {},
   "outputs": [
    {
     "ename": "OperationalError",
     "evalue": "near \"from\": syntax error",
     "output_type": "error",
     "traceback": [
      "\u001b[0;31m\u001b[0m",
      "\u001b[0;31mOperationalError\u001b[0mTraceback (most recent call last)",
      "\u001b[0;32m<ipython-input-18-bd3e1a57f34d>\u001b[0m in \u001b[0;36m<module>\u001b[0;34m()\u001b[0m\n\u001b[1;32m      1\u001b[0m \u001b[0;31m#Your code here\u001b[0m\u001b[0;34m\u001b[0m\u001b[0;34m\u001b[0m\u001b[0m\n\u001b[0;32m----> 2\u001b[0;31m \u001b[0mc\u001b[0m\u001b[0;34m.\u001b[0m\u001b[0mexecute\u001b[0m\u001b[0;34m(\u001b[0m\u001b[0;34m'''select (productName from products'''\u001b[0m\u001b[0;34m)\u001b[0m\u001b[0;34m.\u001b[0m\u001b[0mfetchall\u001b[0m\u001b[0;34m(\u001b[0m\u001b[0;34m)\u001b[0m\u001b[0;34m\u001b[0m\u001b[0m\n\u001b[0m",
      "\u001b[0;31mOperationalError\u001b[0m: near \"from\": syntax error"
     ]
    }
   ],
   "source": [
    "#Your code here\n",
    "c.execute('''select (select count(customerNumber) from orders \n",
    "where orderNumber = \n",
    "\n",
    "productName from products''').fetchall()"
   ]
  },
  {
   "cell_type": "code",
   "execution_count": 24,
   "metadata": {},
   "outputs": [
    {
     "data": {
      "text/plain": [
       "[('18th Century Vintage Horse Carriage', 1),\n",
       " ('18th century schooner', 1),\n",
       " ('1900s Vintage Bi-Plane', 1),\n",
       " ('1900s Vintage Tri-Plane', 1),\n",
       " ('1903 Ford Model A', 1),\n",
       " ('1904 Buick Runabout', 1),\n",
       " ('1911 Ford Town Car', 1),\n",
       " ('1912 Ford Model T Delivery Wagon', 1),\n",
       " ('1913 Ford Model T Speedster', 1),\n",
       " ('1917 Grand Touring Sedan', 1),\n",
       " ('1917 Maxwell Touring Car', 1),\n",
       " ('1926 Ford Fire Engine', 1),\n",
       " ('1928 British Royal Navy Airplane', 1),\n",
       " ('1928 Ford Phaeton Deluxe', 1),\n",
       " ('1928 Mercedes-Benz SSK', 1),\n",
       " ('1930 Buick Marquette Phaeton', 1),\n",
       " ('1932 Alfa Romeo 8C2300 Spider Sport', 1),\n",
       " ('1932 Model A Ford J-Coupe', 1),\n",
       " ('1934 Ford V8 Coupe', 1),\n",
       " ('1936 Chrysler Airflow', 1),\n",
       " ('1936 Harley Davidson El Knucklehead', 1),\n",
       " ('1936 Mercedes Benz 500k Roadster', 1),\n",
       " ('1936 Mercedes-Benz 500K Special Roadster', 1),\n",
       " ('1937 Horch 930V Limousine', 1),\n",
       " ('1937 Lincoln Berline', 1),\n",
       " ('1938 Cadillac V-16 Presidential Limousine', 1),\n",
       " ('1939 Cadillac Limousine', 1),\n",
       " ('1939 Chevrolet Deluxe Coupe', 1),\n",
       " ('1940 Ford Delivery Sedan', 1),\n",
       " ('1940 Ford Pickup Truck', 1),\n",
       " ('1940s Ford truck', 1),\n",
       " ('1941 Chevrolet Special Deluxe Cabriolet', 1),\n",
       " ('1948 Porsche 356-A Roadster', 1),\n",
       " ('1948 Porsche Type 356 Roadster', 1),\n",
       " ('1949 Jaguar XK 120', 1),\n",
       " (\"1950's Chicago Surface Lines Streetcar\", 1),\n",
       " ('1952 Alpine Renault 1300', 1),\n",
       " ('1952 Citroen-15CV', 1),\n",
       " ('1954 Greyhound Scenicruiser', 1),\n",
       " ('1956 Porsche 356A Coupe', 1),\n",
       " ('1957 Chevy Pickup', 1),\n",
       " ('1957 Corvette Convertible', 1),\n",
       " ('1957 Ford Thunderbird', 1),\n",
       " ('1957 Vespa GS150', 1),\n",
       " ('1958 Chevy Corvette Limited Edition', 1),\n",
       " ('1958 Setra Bus', 1),\n",
       " ('1960 BSA Gold Star DBD34', 1),\n",
       " ('1961 Chevrolet Impala', 1),\n",
       " ('1962 City of Detroit Streetcar', 1),\n",
       " ('1962 LanciaA Delta 16V', 1),\n",
       " ('1962 Volkswagen Microbus', 1),\n",
       " ('1964 Mercedes Tour Bus', 1),\n",
       " ('1965 Aston Martin DB5', 1),\n",
       " ('1966 Shelby Cobra 427 S/C', 1),\n",
       " ('1968 Dodge Charger', 1),\n",
       " ('1968 Ford Mustang', 1),\n",
       " ('1969 Chevrolet Camaro Z28', 1),\n",
       " ('1969 Corvair Monza', 1),\n",
       " ('1969 Dodge Charger', 1),\n",
       " ('1969 Dodge Super Bee', 1),\n",
       " ('1969 Ford Falcon', 1),\n",
       " ('1969 Harley Davidson Ultimate Chopper', 1),\n",
       " ('1970 Chevy Chevelle SS 454', 1),\n",
       " ('1970 Dodge Coronet', 1),\n",
       " ('1970 Plymouth Hemi Cuda', 1),\n",
       " ('1970 Triumph Spitfire', 1),\n",
       " ('1971 Alpine Renault 1600s', 1),\n",
       " ('1972 Alfa Romeo GTA', 1),\n",
       " ('1974 Ducati 350 Mk3 Desmo', 1),\n",
       " ('1976 Ford Gran Torino', 1),\n",
       " ('1980s Black Hawk Helicopter', 1),\n",
       " ('1980’s GM Manhattan Express', 1),\n",
       " ('1982 Camaro Z28', 1),\n",
       " ('1982 Ducati 900 Monster', 1),\n",
       " ('1982 Ducati 996 R', 1),\n",
       " ('1982 Lamborghini Diablo', 1),\n",
       " ('1985 Toyota Supra', 1),\n",
       " ('1992 Ferrari 360 Spider red', 1),\n",
       " ('1992 Porsche Cayenne Turbo Silver', 1),\n",
       " ('1993 Mazda RX-7', 1),\n",
       " ('1995 Honda Civic', 1),\n",
       " ('1996 Moto Guzzi 1100i', 1),\n",
       " ('1996 Peterbilt 379 Stake Bed with Outrigger', 1),\n",
       " ('1997 BMW F650 ST', 1),\n",
       " ('1997 BMW R 1100 S', 1),\n",
       " ('1998 Chrysler Plymouth Prowler', 1),\n",
       " ('1999 Indy 500 Monte Carlo SS', 1),\n",
       " ('1999 Yamaha Speed Boat', 1),\n",
       " ('2001 Ferrari Enzo', 1),\n",
       " ('2002 Chevy Corvette', 1),\n",
       " ('2002 Suzuki XREO', 1),\n",
       " ('2002 Yamaha YZR M1', 1),\n",
       " ('2003 Harley-Davidson Eagle Drag Bike', 1),\n",
       " ('ATA: B757-300', 1),\n",
       " ('America West Airlines B757-200', 1),\n",
       " ('American Airlines: B767-300', 1),\n",
       " ('American Airlines: MD-11S', 1),\n",
       " ('Boeing X-32A JSF', 1),\n",
       " ('Collectable Wooden Train', 1),\n",
       " ('Corsair F4U ( Bird Cage)', 1),\n",
       " ('Diamond T620 Semi-Skirted Tanker', 1),\n",
       " ('F/A 18 Hornet 1/72', 1),\n",
       " ('HMS Bounty', 1),\n",
       " ('P-51-D Mustang', 1),\n",
       " ('Pont Yacht', 1),\n",
       " ('The Mayflower', 1),\n",
       " ('The Queen Mary', 1),\n",
       " ('The Schooner Bluenose', 1),\n",
       " ('The Titanic', 1),\n",
       " ('The USS Constitution Ship', 1)]"
      ]
     },
     "execution_count": 24,
     "metadata": {},
     "output_type": "execute_result"
    }
   ],
   "source": [
    "c.execute('''select productName ,count(productCode) from products \n",
    "group by productName''').fetchall()"
   ]
  },
  {
   "cell_type": "markdown",
   "metadata": {},
   "source": [
    "## Select the Employee Number, Office Code, City (of the office), and Name (First and Last) of those Employees who Sold Products that Have Been Ordered by Less Then 20 people.\n",
    "\n",
    "This problem is a bit tougher. To start, think about how you might break the problem up. Be sure that your results only list each employee once."
   ]
  },
  {
   "cell_type": "code",
   "execution_count": 10,
   "metadata": {},
   "outputs": [],
   "source": [
    "#Your code here"
   ]
  },
  {
   "cell_type": "markdown",
   "metadata": {},
   "source": [
    "## Select the Employee Number, Name (First and Last) and Number of Customers of Employees Who's Customers Have an Average Credit Limit of Over 15K"
   ]
  },
  {
   "cell_type": "code",
   "execution_count": null,
   "metadata": {},
   "outputs": [],
   "source": [
    "#Your code here"
   ]
  },
  {
   "cell_type": "markdown",
   "metadata": {},
   "source": [
    "## Summary\n",
    "\n",
    "In this lesson, you got to practice some more complex SQL queries, some of which required subqueries. There's still plenty more SQL to be had though; hope you've been enjoying some of these puzzles!"
   ]
  }
 ],
 "metadata": {
  "kernelspec": {
   "display_name": "Python 3",
   "language": "python",
   "name": "python3"
  },
  "language_info": {
   "codemirror_mode": {
    "name": "ipython",
    "version": 3
   },
   "file_extension": ".py",
   "mimetype": "text/x-python",
   "name": "python",
   "nbconvert_exporter": "python",
   "pygments_lexer": "ipython3",
   "version": "3.6.6"
  }
 },
 "nbformat": 4,
 "nbformat_minor": 2
}
